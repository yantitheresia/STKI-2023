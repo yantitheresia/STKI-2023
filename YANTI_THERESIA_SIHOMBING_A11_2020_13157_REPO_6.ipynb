{
  "cells": [
    {
      "cell_type": "markdown",
      "metadata": {
        "id": "view-in-github",
        "colab_type": "text"
      },
      "source": [
        "<a href=\"https://colab.research.google.com/github/yantitheresia/STKI-2023/blob/main/YANTI_THERESIA_SIHOMBING_A11_2020_13157_REPO_6.ipynb\" target=\"_parent\"><img src=\"https://colab.research.google.com/assets/colab-badge.svg\" alt=\"Open In Colab\"/></a>"
      ]
    },
    {
      "cell_type": "code",
      "execution_count": 2,
      "id": "2ad2bc0e-6474-447c-ba22-88d0c1f856e5",
      "metadata": {
        "tags": [],
        "colab": {
          "base_uri": "https://localhost:8080/"
        },
        "id": "2ad2bc0e-6474-447c-ba22-88d0c1f856e5",
        "outputId": "8d0025ec-b024-4eea-958e-20050deab342"
      },
      "outputs": [
        {
          "output_type": "stream",
          "name": "stdout",
          "text": [
            "[2 1 3 7 5 4]\n",
            "[[0.37454012 0.95071431 0.73199394]\n",
            " [0.59865848 0.15601864 0.15599452]\n",
            " [0.05808361 0.86617615 0.60111501]\n",
            " [0.70807258 0.02058449 0.96990985]\n",
            " [0.83244264 0.21233911 0.18182497]\n",
            " [0.18340451 0.30424224 0.52475643]]\n",
            "[11.37432885  7.07873168 13.22084697]\n",
            "[[0.43194502 0.29122914 0.61185289 0.13949386 0.29214465 0.36636184]\n",
            " [0.45606998 0.78517596 0.19967378 0.51423444 0.59241457 0.04645041]\n",
            " [0.60754485 0.17052412 0.06505159 0.94888554 0.96563203 0.80839735]]\n",
            "[16.17373924 11.1250593   9.23289031 17.77184713 20.28296641 15.18362772]\n"
          ]
        }
      ],
      "source": [
        "import numpy as np\n",
        "np.random.seed(42)\n",
        "v_revenge = np.array([2,1,3,7,5,4]) #\"revenge\"\n",
        "print(v_revenge)\n",
        "#array([3, 5, 7, 1, 4, 2])\n",
        "weight = np.random.random_sample((6,3))\n",
        "print(weight)\n",
        "# array([[ 0.43194502,  0.29122914,  0.61185289],\n",
        "#        [ 0.13949386,  0.29214465,  0.36636184],\n",
        "#        [ 0.45606998,  0.78517596,  0.19967378],\n",
        "#        [ 0.51423444,  0.59241457,  0.04645041],\n",
        "#        [ 0.60754485,  0.17052412,  0.06505159],\n",
        "#        [ 0.94888554,  0.96563203,  0.80839735]])\n",
        "\n",
        "hidden_layer_sg = np.dot(v_revenge,weight)\n",
        "print(hidden_layer_sg)\n",
        "#array([ 0.45606998,  0.78517596,  0.19967378])\n",
        "weight_prime = np.random.random_sample((3,6))\n",
        "print(weight_prime)\n",
        "#array([[ 0.30461377, 0.09767211, 0.68423303, 0.44015249, 0.12203823, 0.49517691],\n",
        "       # [ 0.03438852, 0.9093204, 0.25877998, 0.66252228, 0.31171108,      0.52006802],\n",
        "       # [ 0.54671028, 0.18485446, 0.96958463, 0.77513282, 0.93949894,    0.89482735]])\n",
        "o_the = np.dot(hidden_layer_sg, weight_prime)\n",
        "print(o_the)\n",
        "#array([ 0.27508995, 0.79543243, 0.7088466, 0.87571061, 0.48799933, 0.8128538 ])"
      ]
    },
    {
      "cell_type": "code",
      "execution_count": 3,
      "id": "7c4f6d4b-aa1c-48c1-b664-dd955aca6630",
      "metadata": {
        "tags": [],
        "colab": {
          "base_uri": "https://localhost:8080/"
        },
        "id": "7c4f6d4b-aa1c-48c1-b664-dd955aca6630",
        "outputId": "98429ba4-f953-40f7-9644-96d85512737d"
      },
      "outputs": [
        {
          "output_type": "stream",
          "name": "stdout",
          "text": [
            "[1 0 1 0 1 0]\n",
            "[1.26506637 2.02922956 1.51493392]\n",
            "[2.39230012 2.22005924 1.27776733 2.6574676  3.03459625 1.78239916]\n"
          ]
        }
      ],
      "source": [
        "v_the = np.array([1,0,1,0,1,0]) #\"the\"\n",
        "print(v_the)\n",
        "#array([1, 0, 1, 0, 0, 1])\n",
        "#weight = menggunakan weight yang sama dengan ilustrasi pada Skip-Gram\n",
        "hidden_layer_cbow = np.dot(v_the,weight)\n",
        "print(hidden_layer_cbow)\n",
        "#array([0.43194502, 0.29122914, 0.61185289])\n",
        "#weight_prime = menggunakan weight_prime yang sama dengan ilustrasi pada Skip-Gram\n",
        "o_revenge = np.dot(hidden_layer_cbow, weight_prime)\n",
        "print(o_revenge)\n",
        "#array([0.47609761, 0.42011332, 0.96415848, 0.85733473, 0.7183283, 0.91285087])"
      ]
    }
  ],
  "metadata": {
    "kernelspec": {
      "display_name": "Python 3 (ipykernel)",
      "language": "python",
      "name": "python3"
    },
    "language_info": {
      "codemirror_mode": {
        "name": "ipython",
        "version": 3
      },
      "file_extension": ".py",
      "mimetype": "text/x-python",
      "name": "python",
      "nbconvert_exporter": "python",
      "pygments_lexer": "ipython3",
      "version": "3.10.10"
    },
    "colab": {
      "provenance": [],
      "include_colab_link": true
    }
  },
  "nbformat": 4,
  "nbformat_minor": 5
}