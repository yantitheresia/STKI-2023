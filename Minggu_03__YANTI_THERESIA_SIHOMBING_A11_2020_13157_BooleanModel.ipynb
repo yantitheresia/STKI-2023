{
  "cells": [
    {
      "cell_type": "markdown",
      "metadata": {
        "id": "view-in-github",
        "colab_type": "text"
      },
      "source": [
        "<a href=\"https://colab.research.google.com/github/yantitheresia/STKI-2023/blob/main/Minggu_03__YANTI_THERESIA_SIHOMBING_A11_2020_13157_BooleanModel.ipynb\" target=\"_parent\"><img src=\"https://colab.research.google.com/assets/colab-badge.svg\" alt=\"Open In Colab\"/></a>"
      ]
    },
    {
      "cell_type": "code",
      "execution_count": null,
      "id": "0bd86a33-0ffd-48d2-9056-c7574bf13168",
      "metadata": {
        "tags": [],
        "id": "0bd86a33-0ffd-48d2-9056-c7574bf13168"
      },
      "outputs": [],
      "source": [
        "import nltk\n",
        "from nltk.corpus import stopwords\n",
        "from nltk.stem import WordNetLemmatizer, PorterStemmer\n",
        "from nltk.tokenize import sent_tokenize , word_tokenize\n",
        "import glob\n",
        "import re\n",
        "import os\n",
        "import numpy as np\n",
        "import sys"
      ]
    },
    {
      "cell_type": "code",
      "execution_count": null,
      "id": "aa0b41d0-8d2c-4235-b9ef-5fd8aeb1da27",
      "metadata": {
        "tags": [],
        "id": "aa0b41d0-8d2c-4235-b9ef-5fd8aeb1da27"
      },
      "outputs": [],
      "source": [
        "def finding_all_unique_words_and_freq(words):\n",
        "    words_unique = []\n",
        "    word_freq = {}\n",
        "    for word in words:\n",
        "        if word not in words_unique:\n",
        "            words_unique.append(word)\n",
        "    for word in words_unique:\n",
        "        word_freq[word] = words.count(word)\n",
        "    return word_freq\n",
        "def finding_freq_of_word_in_doc(word,words):\n",
        "    freq = words.count(word)"
      ]
    },
    {
      "cell_type": "code",
      "execution_count": null,
      "id": "a355cc37-4092-430a-8ae8-6f2625b56acb",
      "metadata": {
        "tags": [],
        "id": "a355cc37-4092-430a-8ae8-6f2625b56acb"
      },
      "outputs": [],
      "source": [
        "all_words = []\n",
        "dict_global = {}\n",
        "file_folder = 'data/*'\n",
        "idx = 1\n",
        "files_with_index = {}\n",
        "for file in glob.glob(file_folder):\n",
        "    print(file)\n",
        "    fname = file\n",
        "    file = open(file , \"r\")\n",
        "    text = file.read()\n",
        "unique_words_all = set(dict_global.keys())"
      ]
    },
    {
      "cell_type": "code",
      "execution_count": null,
      "id": "3ba2475f-1013-4cbc-b9b7-007766d893a6",
      "metadata": {
        "tags": [],
        "id": "3ba2475f-1013-4cbc-b9b7-007766d893a6"
      },
      "outputs": [],
      "source": [
        "class Node:\n",
        "    def __init__(self ,docId, freq = None):\n",
        "        self.freq = freq\n",
        "        self.doc = docId\n",
        "        self.nextval = None"
      ]
    }
  ],
  "metadata": {
    "kernelspec": {
      "display_name": "Python 3 (ipykernel)",
      "language": "python",
      "name": "python3"
    },
    "language_info": {
      "codemirror_mode": {
        "name": "ipython",
        "version": 3
      },
      "file_extension": ".py",
      "mimetype": "text/x-python",
      "name": "python",
      "nbconvert_exporter": "python",
      "pygments_lexer": "ipython3",
      "version": "3.10.10"
    },
    "colab": {
      "provenance": [],
      "include_colab_link": true
    }
  },
  "nbformat": 4,
  "nbformat_minor": 5
}